{
 "cells": [
  {
   "cell_type": "code",
   "execution_count": 1,
   "metadata": {},
   "outputs": [],
   "source": [
    "import openml\n",
    "import numpy as np\n",
    "from sklearn.model_selection import train_test_split\n",
    "from sklearn.metrics import roc_auc_score\n",
    "from sklearn.ensemble import RandomForestClassifier\n",
    "from sklearn.svm import SVC\n",
    "from xgboost import XGBClassifier\n",
    "from tqdm import tqdm\n",
    "import warnings\n",
    "\n",
    "warnings.filterwarnings('ignore')"
   ]
  },
  {
   "cell_type": "code",
   "execution_count": 2,
   "metadata": {},
   "outputs": [],
   "source": [
    "HYPERPARAMETERS_SPACE_RFC = {\n",
    "    'n_estimators': list(range(1, 2001)),\n",
    "    'max_depth': [None] + list(range(10, 51)),\n",
    "    'min_samples_split': list(range(2, 11)),\n",
    "    'min_samples_leaf': list(range(1, 5)),\n",
    "    'max_features': ['auto', 'sqrt', 'log2'] + list(np.arange(0.1, 1.1, 0.1)),\n",
    "    'bootstrap': [True, False],\n",
    "    'criterion': ['gini', 'entropy'],\n",
    "    'class_weight': [None, 'balanced'],\n",
    "    'max_samples': [None] + list(np.arange(0.1, 1.1, 0.1)),\n",
    "}"
   ]
  },
  {
   "cell_type": "code",
   "execution_count": 3,
   "metadata": {},
   "outputs": [],
   "source": [
    "HYPERPARAMETERS_SPACE_SVM = {\n",
    "    'kernel': ['linear', 'poly', 'rbf', 'sigmoid'],\n",
    "    'C': 2.0 ** np.arange(-10, 11),\n",
    "    'gamma': 2.0 ** np.arange(-10, 11),\n",
    "    'degree': np.arange(2, 6, 1)\n",
    "}"
   ]
  },
  {
   "cell_type": "code",
   "execution_count": 4,
   "metadata": {},
   "outputs": [],
   "source": [
    "HYPERPARAMETERS_SPACE_XGB = {\n",
    "    \"n_estimators\": np.arange(1, 1000),\n",
    "    \"max_depth\": np.arange(1, 1000),\n",
    "    \"max_leaves\": np.arange(0, 10000),\n",
    "    'min_child_weight':np.arange(1, 50, 1),\n",
    "    \"grow_policy\": ['depthwise', 'lossguide'],\n",
    "    \"learning_rate\": np.random.uniform(0, 1, 100),\n",
    "    \"booster\": ['gbtree', 'gblinear', 'dart'],\n",
    "    \"gamma\": np.random.uniform(0, 1, 100),\n",
    "    \"subsumple\": np.random.uniform(0, 1, 100),\n",
    "    \"colsample_bytree\": np.random.uniform(0, 1, 100),\n",
    "    \"reg_alpha\": [1e-5, 1e-4, 1e-3, 1e-2, 0.1, 1, 10, 100],\n",
    "    \"reg_lambda\": [1e-5, 1e-4, 1e-3, 1e-2, 0.1, 1, 10, 100],\n",
    "}"
   ]
  },
  {
   "cell_type": "code",
   "execution_count": 5,
   "metadata": {},
   "outputs": [],
   "source": [
    "def randomly_choose_hyperparameters(hyperparameters_space):\n",
    "    hyperparameters = {}\n",
    "    for key, value in hyperparameters_space.items():\n",
    "        hyperparameters[key] = np.random.choice(value)\n",
    "    return hyperparameters"
   ]
  },
  {
   "cell_type": "code",
   "execution_count": 6,
   "metadata": {},
   "outputs": [],
   "source": [
    "labels = {\n",
    "    44: 'class',\n",
    "    1504: 'Class',\n",
    "    37: 'class',\n",
    "    1494: 'Class'\n",
    "}"
   ]
  },
  {
   "cell_type": "code",
   "execution_count": 7,
   "metadata": {},
   "outputs": [
    {
     "name": "stderr",
     "output_type": "stream",
     "text": [
      "  0%|          | 0/2 [00:00<?, ?it/s]"
     ]
    },
    {
     "name": "stderr",
     "output_type": "stream",
     "text": [
      "100%|██████████| 2/2 [00:01<00:00,  1.32it/s]\n"
     ]
    }
   ],
   "source": [
    "NO_ITER = 2\n",
    "\n",
    "hparams_results = {}\n",
    "for epoch in tqdm(range(NO_ITER)):\n",
    "    while True:\n",
    "        try:\n",
    "            # chosen_hyperparameters = randomly_choose_hyperparameters(HYPERPARAMETERS_SPACE_RFC)\n",
    "            # chosen_hyperparameters = randomly_choose_hyperparameters(HYPERPARAMETERS_SPACE_SVM)\n",
    "            chosen_hyperparameters = randomly_choose_hyperparameters(HYPERPARAMETERS_SPACE_XGB)\n",
    "\n",
    "            results = []\n",
    "\n",
    "            for dataset_number, label in labels.items():\n",
    "                dataset = openml.datasets.get_dataset(dataset_number)\n",
    "                df = dataset.get_data()[0]\n",
    "                df[label] = np.where(df[label] == df[label].cat.categories[0], 0, 1)\n",
    "                train, test = train_test_split(df, test_size=0.2, random_state=42, stratify=df[label])\n",
    "\n",
    "                X_train = train.drop(label, axis=1)\n",
    "                y_train = train[label]\n",
    "                X_test = test.drop(label, axis=1)\n",
    "                y_test = test[label]\n",
    "\n",
    "                # clf = RandomForestClassifier(**chosen_hyperparameters)\n",
    "                # clf = SVC(**chosen_hyperparameters)\n",
    "                clf = XGBClassifier(**chosen_hyperparameters, enable_categorical=True)\n",
    "                clf.fit(X_train, y_train)\n",
    "\n",
    "                y_pred = clf.predict(X_test)\n",
    "                auc = roc_auc_score(y_test, y_pred)\n",
    "                results.append(auc)\n",
    "\n",
    "            avg_auc = np.mean(results)\n",
    "\n",
    "            if avg_auc in hparams_results:\n",
    "                hparams_results[avg_auc].append(chosen_hyperparameters)\n",
    "            else:\n",
    "                hparams_results[avg_auc] = [chosen_hyperparameters]\n",
    "\n",
    "            break\n",
    "\n",
    "        except:\n",
    "            print('Error occured')\n",
    "            continue\n"
   ]
  },
  {
   "cell_type": "code",
   "execution_count": 8,
   "metadata": {},
   "outputs": [
    {
     "data": {
      "text/plain": [
       "{'n_estimators': 67,\n",
       " 'max_depth': 27,\n",
       " 'max_leaves': 7616,\n",
       " 'min_child_weight': 13,\n",
       " 'grow_policy': 'lossguide',\n",
       " 'learning_rate': 0.7772091164648717,\n",
       " 'booster': 'gblinear',\n",
       " 'gamma': 0.347198107322894,\n",
       " 'subsumple': 0.9331275642364245,\n",
       " 'colsample_bytree': 0.9992961378955276,\n",
       " 'reg_alpha': 0.0001,\n",
       " 'reg_lambda': 0.001}"
      ]
     },
     "execution_count": 8,
     "metadata": {},
     "output_type": "execute_result"
    }
   ],
   "source": [
    "best_avg_auc = max(hparams_results.keys())\n",
    "hparams_results[best_avg_auc][0]"
   ]
  },
  {
   "cell_type": "code",
   "execution_count": 9,
   "metadata": {},
   "outputs": [
    {
     "data": {
      "text/plain": [
       "0.8538170751450929"
      ]
     },
     "execution_count": 9,
     "metadata": {},
     "output_type": "execute_result"
    }
   ],
   "source": [
    "best_avg_auc"
   ]
  }
 ],
 "metadata": {
  "kernelspec": {
   "display_name": "hw1_automl",
   "language": "python",
   "name": "python3"
  },
  "language_info": {
   "codemirror_mode": {
    "name": "ipython",
    "version": 3
   },
   "file_extension": ".py",
   "mimetype": "text/x-python",
   "name": "python",
   "nbconvert_exporter": "python",
   "pygments_lexer": "ipython3",
   "version": "3.11.6"
  }
 },
 "nbformat": 4,
 "nbformat_minor": 2
}
