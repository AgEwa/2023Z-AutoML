{
 "cells": [
  {
   "cell_type": "code",
   "execution_count": 63,
   "metadata": {},
   "outputs": [],
   "source": [
    "import openml\n",
    "import numpy as np\n",
    "from sklearn.model_selection import train_test_split\n",
    "from sklearn.metrics import roc_auc_score\n",
    "from xgboost import XGBClassifier\n",
    "from tqdm import tqdm\n",
    "import warnings\n",
    "\n",
    "warnings.filterwarnings('ignore')"
   ]
  },
  {
   "cell_type": "code",
   "execution_count": 64,
   "metadata": {},
   "outputs": [],
   "source": [
    "hyperparameters_space_xgboost = {\n",
    "    \"n_estimators\": np.arange(1, 1000),\n",
    "    \"max_depth\": np.arange(1, 1000),\n",
    "    \"max_leaves\": np.arange(0, 10000), # indicates not limit\n",
    "    'min_child_weight':np.arange(1, 50, 1),\n",
    "    \"grow_policy\": ['depthwise', 'lossguide'],\n",
    "    \"learning_rate\": np.random.uniform(0, 1, 100),\n",
    "    \"booster\": ['gbtree', 'gblinear', 'dart'],\n",
    "    \"gamma\": np.random.uniform(0, 1, 100),\n",
    "    \"subsumple\": np.random.uniform(0, 1, 100),\n",
    "    \"colsample_bytree\": np.random.uniform(0, 1, 100),\n",
    "    \"reg_alpha\": [1e-5, 1e-4, 1e-3, 1e-2, 0.1, 1, 10, 100],\n",
    "    \"reg_lambda\": [1e-5, 1e-4, 1e-3, 1e-2, 0.1, 1, 10, 100],\n",
    "}"
   ]
  },
  {
   "cell_type": "code",
   "execution_count": 65,
   "metadata": {},
   "outputs": [],
   "source": [
    "def randomly_choose_hyperparameters(hyperparameters_space):\n",
    "    hyperparameters = {}\n",
    "    for key, value in hyperparameters_space.items():\n",
    "        hyperparameters[key] = np.random.choice(value)\n",
    "    return hyperparameters"
   ]
  },
  {
   "cell_type": "code",
   "execution_count": 70,
   "metadata": {},
   "outputs": [],
   "source": [
    "labels = {\n",
    "    44: 'class',\n",
    "    1504: 'Class',\n",
    "    37: \"class\",\n",
    "    1494: 'Class'\n",
    "}"
   ]
  },
  {
   "cell_type": "code",
   "execution_count": 71,
   "metadata": {},
   "outputs": [
    {
     "name": "stdout",
     "output_type": "stream",
     "text": [
      "(4601, 58)\n",
      "(1941, 34)\n",
      "(768, 9)\n",
      "(1055, 42)\n"
     ]
    }
   ],
   "source": [
    "for dataset_number, label in labels.items():\n",
    "        dataset = openml.datasets.get_dataset(dataset_number)\n",
    "        df = dataset.get_data()[0]\n",
    "        print(df.shape)"
   ]
  },
  {
   "cell_type": "code",
   "execution_count": 73,
   "metadata": {},
   "outputs": [
    {
     "name": "stderr",
     "output_type": "stream",
     "text": [
      " 40%|████      | 2/5 [00:07<00:10,  3.51s/it]"
     ]
    }
   ],
   "source": [
    "NO_EPOCHS = 5\n",
    "\n",
    "hparams_results = {}\n",
    "for epoch in tqdm(range(NO_EPOCHS)):\n",
    "    chosen_hyperparameters = randomly_choose_hyperparameters(hyperparameters_space_xgboost)\n",
    "\n",
    "    results = []\n",
    "\n",
    "    for dataset_number, label in labels.items():\n",
    "        dataset = openml.datasets.get_dataset(dataset_number)\n",
    "        df = dataset.get_data()[0]\n",
    "        df[label] = np.where(df[label] == df[label].cat.categories[0], 0, 1)\n",
    "        train, test = train_test_split(df, test_size=0.2, random_state=42, stratify=df[label])\n",
    "\n",
    "        X_train = train.drop(label, axis=1)\n",
    "        y_train = train[label]\n",
    "        X_test = test.drop(label, axis=1)\n",
    "        y_test = test[label]\n",
    "\n",
    "        xgb = XGBClassifier(**chosen_hyperparameters, enable_categorical=True)\n",
    "        xgb.fit(X_train, y_train)\n",
    "\n",
    "        y_pred = xgb.predict(X_test)\n",
    "        auc = roc_auc_score(y_test, y_pred)\n",
    "        results.append(auc)\n",
    "\n",
    "    avg_auc = np.mean(results)\n",
    "    hparams_results[avg_auc] = chosen_hyperparameters"
   ]
  }
 ],
 "metadata": {
  "kernelspec": {
   "display_name": "hw1_automl",
   "language": "python",
   "name": "python3"
  },
  "language_info": {
   "codemirror_mode": {
    "name": "ipython",
    "version": 3
   },
   "file_extension": ".py",
   "mimetype": "text/x-python",
   "name": "python",
   "nbconvert_exporter": "python",
   "pygments_lexer": "ipython3",
   "version": "3.10.13"
  }
 },
 "nbformat": 4,
 "nbformat_minor": 2
}
