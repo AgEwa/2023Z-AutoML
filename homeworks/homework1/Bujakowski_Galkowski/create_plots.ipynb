{
 "cells": [
  {
   "cell_type": "code",
   "execution_count": 1,
   "metadata": {},
   "outputs": [],
   "source": [
    "import pandas as pd\n",
    "import pickle\n",
    "import seaborn as sns\n",
    "import matplotlib.pyplot as plt\n",
    "import os\n",
    "\n",
    "def create_tunability_plots(model: str):\n",
    "    df = pd.DataFrame(columns=['value', 'param', 'method'])\n",
    "\n",
    "    # method = 'random_search' if sampling_method == 'random' else 'bayes_search'\n",
    "\n",
    "    path = f'tunability/{model}'\n",
    "\n",
    "    for folder in os.listdir(path):\n",
    "        new_path = os.path.join(path, folder)\n",
    "        for file in os.listdir(new_path):\n",
    "            param = list(filter(lambda x: x not in [model, 'tunability.pickle'], file.split('_')))\n",
    "\n",
    "            with open(os.path.join(new_path, file), 'rb') as f:\n",
    "                tunability = pickle.load(f)\n",
    "                df = pd.concat([df, pd.DataFrame({'value': tunability, 'param': '_'.join(param), 'method': folder})])\n",
    "\n",
    "    if model == 'RFC':\n",
    "        model_name = \"Random Forest Classifier\"\n",
    "    elif model == 'XGB':\n",
    "        model_name = \"XGBoost Classifier\"\n",
    "    elif model == 'LR':\n",
    "        model_name = \"Logistic Regression\"\n",
    "    elif model == 'TREE':\n",
    "        model_name = \"Decision Tree Classifier\"\n",
    "\n",
    "    fig_path = f'plots/tunability/{model}'\n",
    "\n",
    "    if not os.path.exists(fig_path):\n",
    "        os.makedirs(fig_path)\n",
    "\n",
    "    fig, ax = plt.subplots(1, 2, figsize=(20, 12))\n",
    "    for i, method in enumerate(['random_search', 'bayes_search']):\n",
    "        method_data = df[df['method'] == method]\n",
    "        current_ax = ax[i]\n",
    "\n",
    "        sns.boxplot(x='param', y='value', data=method_data, ax=current_ax, color='#235cc4')\n",
    "\n",
    "        current_ax.set_title(f'Tunability for {model_name} using {method}')\n",
    "        current_ax.set_ylabel('Tunability (AUC)')\n",
    "        current_ax.set_xlabel('Hyperparameter')\n",
    "        current_ax.set_xticklabels(current_ax.get_xticklabels(), rotation=45)\n",
    "\n",
    "        if i == 1:\n",
    "            current_ax.set_ylim(ax[0].get_ylim())\n",
    "    plt.savefig(os.path.join(fig_path, f'{model}_tunability.png'), dpi=300, bbox_inches='tight')"
   ]
  },
  {
   "cell_type": "code",
   "execution_count": null,
   "metadata": {},
   "outputs": [],
   "source": [
    "models = ['RFC', 'XGB', 'TREE']\n",
    "\n",
    "for model in models:\n",
    "    create_tunability_plots(model)"
   ]
  }
 ],
 "metadata": {
  "kernelspec": {
   "display_name": "hw1_automl",
   "language": "python",
   "name": "python3"
  },
  "language_info": {
   "codemirror_mode": {
    "name": "ipython",
    "version": 3
   },
   "file_extension": ".py",
   "mimetype": "text/x-python",
   "name": "python",
   "nbconvert_exporter": "python",
   "pygments_lexer": "ipython3",
   "version": "3.10.13"
  }
 },
 "nbformat": 4,
 "nbformat_minor": 2
}
