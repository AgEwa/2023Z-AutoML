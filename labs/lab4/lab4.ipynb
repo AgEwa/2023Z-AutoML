{
 "cells": [
  {
   "cell_type": "markdown",
   "metadata": {},
   "source": [
    "## Automatyczne Uczenie Maszynowe\n",
    "#### Laboratorium 4"
   ]
  },
  {
   "cell_type": "markdown",
   "metadata": {},
   "source": [
    "*AutoGluon. Optymalizacja hipermarametór.*"
   ]
  },
  {
   "cell_type": "markdown",
   "metadata": {},
   "source": [
    "### Zadanie 1\n",
    "-----\n",
    "Wykorzystując bazę zbiorów danych [OpenML](https://www.openml.org/) wybierz 3 zbiory (najlepiej z brakami danych):\n",
    "\n",
    "a) zbiór do regresji\n",
    "\n",
    "b) zbiór do klasyfikacji \n",
    "\n",
    "c) zbiór do multiklasyfikacji\n",
    "\n",
    "Każdy zbiór danych podziel na część treningową i testową. Używając pakietu `AutoGluon` przygotuj modele i sprawdź ich jakość zarówno na zbiorze treningowym i testowym.\n",
    "\n",
    "Odpowiedz na pytania:\n",
    "\n",
    "1. Jakie są domyślne parametry i jakie wartości przyjmują?\n",
    "\n",
    "2. Czy możemy określić czas działania pakietu? Jeżeli tak, to przetestuj 2-3 różne czasy i przedstaw wyniki modeli.\n",
    "\n",
    "3. Jaki sposób optymalizacji hiperparametrów jest dostępny w `AutoGluon`?\n",
    "\n",
    "4. Czy wyniki dla zespołów modeli (ensemblingi) są lepsze od poszczególnych modeli?"
   ]
  },
  {
   "cell_type": "code",
   "execution_count": null,
   "metadata": {},
   "outputs": [],
   "source": [
    "\n",
    "\n",
    "\n"
   ]
  },
  {
   "cell_type": "markdown",
   "metadata": {},
   "source": [
    "### Zadanie 2\n",
    "----\n",
    "Dla wybranego zbioru danych z Zadanie 1 przygotuj 2-3 modele na których zastosuj optymalizację hiperparametrów używając metody *random search*.\n",
    "\n",
    "https://scikit-learn.org/stable/modules/generated/sklearn.model_selection.GridSearchCV.html\n",
    "\n",
    "Porównaj uzyskane wyniki z wynikami Zadania 1. Które podejście otrzymuje lepsze wyniki? AutoGluon czy RandomSearch?"
   ]
  },
  {
   "cell_type": "code",
   "execution_count": null,
   "metadata": {},
   "outputs": [],
   "source": []
  },
  {
   "cell_type": "markdown",
   "metadata": {},
   "source": [
    "### Zadanie 3\n",
    "----\n",
    "Wykorzystując pakiet `scikit-optimize` przygotuj optymalizację hiperparametrów metodą bayesowską. \n",
    "\n",
    "https://scikit-optimize.github.io/stable/\n",
    "\n",
    "https://colab.research.google.com/github/krasserm/bayesian-machine-learning/blob/master/bayesian_optimization.ipynb#scrollTo=sJMlow8JPDoi\n",
    "\n",
    "Porównaj uzyskane wyniki z wynikami Zadania 1 oraz Zadania 2."
   ]
  },
  {
   "cell_type": "code",
   "execution_count": null,
   "metadata": {},
   "outputs": [],
   "source": [
    "# !pip install scikit-optimize==0.5.2\n",
    "# !pip install GPy==1.9.8\n",
    "# !pip install GPyOpt==1.2.1\n",
    "# !pip install xgboost==0.90\n",
    "# Get additional files from Github\n",
    "!wget https://raw.githubusercontent.com/krasserm/bayesian-machine-learning/master/bayesian_optimization_util.py"
   ]
  },
  {
   "cell_type": "code",
   "execution_count": null,
   "metadata": {},
   "outputs": [],
   "source": [
    "import matplotlib.pyplot as plt\n",
    "import numpy as np\n",
    "%matplotlib inline\n",
    "\n",
    "bounds = np.array([[-1.0, 2.0]])\n",
    "noise = 0.2\n",
    "\n",
    "def f(X, noise=noise):\n",
    "    return -np.sin(3*X) - X**2 + 0.7*X + noise * np.random.randn(*X.shape)\n",
    "\n",
    "X_init = np.array([[-0.9], [1.1]])\n",
    "Y_init = f(X_init)"
   ]
  },
  {
   "cell_type": "code",
   "execution_count": null,
   "metadata": {},
   "outputs": [],
   "source": [
    "\n",
    "\n",
    "# Dense grid of points within bounds\n",
    "X = np.arange(bounds[:, 0], bounds[:, 1], 0.01).reshape(-1, 1)\n",
    "\n",
    "# Noise-free objective function values at X \n",
    "Y = f(X,0)\n",
    "\n",
    "# Plot optimization objective with noise level \n",
    "plt.plot(X, Y, 'y--', lw=2, label='Noise-free objective')\n",
    "plt.plot(X, f(X), 'bx', lw=1, alpha=0.1, label='Noisy samples')\n",
    "plt.plot(X_init, Y_init, 'kx', mew=3, label='Initial samples')\n",
    "plt.legend();"
   ]
  },
  {
   "attachments": {},
   "cell_type": "markdown",
   "metadata": {},
   "source": [
    "#### Scikit-optimize\n",
    "\n",
    "https://scikit-opt.github.io/scikit-opt/#/en/README\n"
   ]
  },
  {
   "cell_type": "code",
   "execution_count": null,
   "metadata": {},
   "outputs": [],
   "source": [
    "from sklearn.base import clone\n",
    "from skopt import gp_minimize\n",
    "from skopt.learning import GaussianProcessRegressor\n",
    "from skopt.learning.gaussian_process.kernels import ConstantKernel, Matern\n",
    "from bayesian_optimization_util import plot_approximation, plot_acquisition, plot_convergence\n",
    "\n",
    "# Use custom kernel and estimator to match previous example\n",
    "m52 = ConstantKernel(1.0) * Matern(length_scale=1.0, nu=2.5)\n",
    "gpr = GaussianProcessRegressor(kernel=m52, alpha=noise**2)\n",
    "\n",
    "r = gp_minimize(lambda x: -f(np.array(x))[0], \n",
    "                bounds.tolist(),\n",
    "                base_estimator=gpr,\n",
    "                acq_func='EI',      # expected improvement\n",
    "                xi=0.01,            # exploitation-exploration trade-off\n",
    "                n_calls=10,         # number of iterations\n",
    "                n_random_starts=0,  # initial samples are provided\n",
    "                x0=X_init.tolist(), # initial samples\n",
    "                y0=-Y_init.ravel())\n",
    "\n",
    "# Fit GP model to samples for plotting results\n",
    "gpr.fit(r.x_iters, -r.func_vals)\n",
    "\n",
    "# Plot the fitted model and the noisy samples\n",
    "plot_approximation(gpr, X, Y, r.x_iters, -r.func_vals, show_legend=True)"
   ]
  },
  {
   "cell_type": "code",
   "execution_count": null,
   "metadata": {},
   "outputs": [],
   "source": [
    "plot_convergence(np.array(r.x_iters), -r.func_vals)"
   ]
  },
  {
   "cell_type": "markdown",
   "metadata": {},
   "source": [
    "#### SMAC-3\n",
    "\n",
    "https://automl.github.io/SMAC3/main/examples/index.html"
   ]
  }
 ],
 "metadata": {
  "kernelspec": {
   "display_name": "automl_2023z",
   "language": "python",
   "name": "python3"
  },
  "language_info": {
   "name": "python",
   "version": "3.11.5"
  }
 },
 "nbformat": 4,
 "nbformat_minor": 2
}
