{
 "cells": [
  {
   "cell_type": "markdown",
   "metadata": {},
   "source": [
    "## Automatyczne Uczenie Maszynowe\n",
    "#### Laboratorium 4"
   ]
  },
  {
   "cell_type": "markdown",
   "metadata": {},
   "source": [
    "*AutoGluon. Optymalizacja hipermarametór.*"
   ]
  },
  {
   "cell_type": "markdown",
   "metadata": {},
   "source": [
    "### Zadanie 1\n",
    "-----\n",
    "Wykorzystując bazę zbiorów danych [OpenML](https://www.openml.org/) wybierz 3 zbiory (najlepiej z brakami danych):\n",
    "\n",
    "a) zbiór do regresji\n",
    "\n",
    "b) zbiór do klasyfikacji \n",
    "\n",
    "c) zbiór do multiklasyfikacji\n",
    "\n",
    "Każdy zbiór danych podziel na część treningową i testową. Używając pakietu `AutoGluon` przygotuj modele i sprawdź ich jakość zarówno na zbiorze treningowym i testowym.\n",
    "\n",
    "Odpowiedz na pytania:\n",
    "\n",
    "1. Jakie są domyślne parametry i jakie wartości przyjmują?\n",
    "\n",
    "2. Czy możemy określić czas działania pakietu? Jeżeli tak, to przetestuj 2-3 różne czasy i przedstaw wyniki modeli.\n",
    "\n",
    "3. Jaki sposób optymalizacji hiperparametrów jest dostępny w `AutoGluon`?\n",
    "\n",
    "4. Czy wyniki dla zespołów modeli (ensemblingi) są lepsze od poszczególnych modeli?"
   ]
  },
  {
   "cell_type": "code",
   "execution_count": null,
   "metadata": {},
   "outputs": [],
   "source": []
  },
  {
   "cell_type": "markdown",
   "metadata": {},
   "source": [
    "### Zadanie 2\n",
    "----\n",
    "Dla wybranego zbioru danych z Zadanie 1 przygotuj 2-3 modele na których zastosuj optymalizację hiperparametrów używając metody *random search*.\n",
    "\n",
    "https://scikit-learn.org/stable/modules/generated/sklearn.model_selection.GridSearchCV.html\n",
    "\n",
    "Porównaj uzyskane wyniki z wynikami Zadania 1. Które podejście otrzymuje lepsze wyniki? AutoGluon czy RandomSearch?"
   ]
  },
  {
   "cell_type": "code",
   "execution_count": null,
   "metadata": {},
   "outputs": [],
   "source": []
  },
  {
   "cell_type": "markdown",
   "metadata": {},
   "source": [
    "### Zadanie 3\n",
    "----\n",
    "Wykorzystując pakiet `scikit-optimize` przygotuj optymalizację hiperparametrów metodą bayesowską. \n",
    "\n",
    "https://scikit-optimize.github.io/stable/\n",
    "\n",
    "https://colab.research.google.com/github/krasserm/bayesian-machine-learning/blob/master/bayesian_optimization.ipynb#scrollTo=sJMlow8JPDoi\n",
    "\n",
    "Porównaj uzyskane wyniki z wynikami Zadania 1 oraz Zadania 2."
   ]
  },
  {
   "cell_type": "code",
   "execution_count": null,
   "metadata": {},
   "outputs": [],
   "source": []
  }
 ],
 "metadata": {
  "language_info": {
   "name": "python"
  }
 },
 "nbformat": 4,
 "nbformat_minor": 2
}
